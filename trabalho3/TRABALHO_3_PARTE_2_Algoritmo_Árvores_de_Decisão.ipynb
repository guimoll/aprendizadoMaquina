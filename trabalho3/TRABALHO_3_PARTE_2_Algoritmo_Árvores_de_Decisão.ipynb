{
  "nbformat": 4,
  "nbformat_minor": 0,
  "metadata": {
    "colab": {
      "provenance": []
    },
    "kernelspec": {
      "name": "python3",
      "display_name": "Python 3"
    },
    "language_info": {
      "name": "python"
    }
  },
  "cells": [
    {
      "cell_type": "markdown",
      "source": [
        "# PARTE 2: Algoritmo Árvores de Decisão"
      ],
      "metadata": {
        "id": "1DgVWQESUjxs"
      }
    },
    {
      "cell_type": "markdown",
      "source": [
        "Nesta segunda parte do Trabalho você irá aplicar os algoritmos de Árvore de Decisão e de Floresta Aleatória na base de dados de risco de crédito discutida em aula. Para isso você deve primeiramente importar as bibliotecas necessárias."
      ],
      "metadata": {
        "id": "5Z6M49T4bTVe"
      }
    },
    {
      "cell_type": "code",
      "source": [
        "import pandas as pd\n",
        "import numpy as np\n",
        "import seaborn as sns\n",
        "import matplotlib.pyplot as plt\n",
        "import plotly.express as px"
      ],
      "metadata": {
        "id": "m6G94l4HZUd3"
      },
      "execution_count": null,
      "outputs": []
    },
    {
      "cell_type": "markdown",
      "source": [
        "# 1 - Importação dos dados Pré-Processados\n",
        "\n",
        "a) importe o arquivo salvo como 'risco_credito.pkl'\n",
        "\n"
      ],
      "metadata": {
        "id": "HCm6-LDzbpoM"
      }
    },
    {
      "cell_type": "code",
      "source": [
        "import pickle\n",
        "with open('risco_credito.pkl', 'rb') as f:\n",
        "  X_risco_credito, y_risco_credito = pickle.load(f)"
      ],
      "metadata": {
        "id": "bNSId2ViThgW"
      },
      "execution_count": null,
      "outputs": []
    },
    {
      "cell_type": "markdown",
      "source": [
        "# 2 - Algoritmo de Árvore de Decisão\n",
        "\n"
      ],
      "metadata": {
        "id": "DeVVZG7YcJTf"
      }
    },
    {
      "cell_type": "markdown",
      "source": [
        "a) importar da biblioteca sklearn o pacote DecisionTreeClassifier"
      ],
      "metadata": {
        "id": "fgzhd26Acktp"
      }
    },
    {
      "cell_type": "markdown",
      "source": [
        "b) Calcule a árvore de decisão, utilizando como critério a entropia.\n",
        "Coloque como nome da variável: arvore_risco_credito"
      ],
      "metadata": {
        "id": "hllDlCbVSl5U"
      }
    },
    {
      "cell_type": "markdown",
      "source": [
        "c) Utilize o feature_importances_ para retornar a importância de cada atributo. Qual possui o maior ganho de informação?"
      ],
      "metadata": {
        "id": "fptGZJkyc0kc"
      }
    },
    {
      "cell_type": "markdown",
      "source": [
        "d) Gere uma visualização da sua árvore de decisão utilizando o pacote tree da biblioteca do sklearn.\n",
        "\n",
        "OBS: Adicione cores, nomes para os atributos e para as classes."
      ],
      "metadata": {
        "id": "nVe4IlaJZcdu"
      }
    },
    {
      "cell_type": "markdown",
      "source": [
        "e) FAZER A PREVISÃO\n",
        "\n",
        "Utilize .predict para fazer a previsão realizada no exemplo em sala.\n",
        "\n",
        "   i. história boa, dívida alta, garantia nenhuma, renda > 35\n",
        "\n",
        "   ii. história ruim, dívida alta, garantia adequada, renda < 15\n",
        "\n",
        "\n",
        "Verifique nos slides se seu resultado está correto!"
      ],
      "metadata": {
        "id": "ehl3OonIbDe3"
      }
    },
    {
      "cell_type": "markdown",
      "source": [
        "#3 - Algoritmo de Árvore de Decisão para uma base de dados maior (Credit Data)\n",
        "\n",
        "Nesta seção você deverá testar o uso da Árvore de Decisão para a Base de Dados Credit Risk Dataset. Aqui estaremos analisando os clientes que pagam (classe 0) ou não pagam a dívida (classe 1), a fim do banco conceder empréstimo."
      ],
      "metadata": {
        "id": "uGBPXAtej2q7"
      }
    },
    {
      "cell_type": "code",
      "source": [
        "# abrir o arquivo\n",
        "with open('credit.pkl', 'rb') as f:\n",
        "  X_credit_treinamento, y_credit_treinamento, X_credit_teste, y_credit_teste = pickle.load(f)"
      ],
      "metadata": {
        "id": "RzKgxFwIj-3A"
      },
      "execution_count": null,
      "outputs": []
    },
    {
      "cell_type": "markdown",
      "source": [
        "a) Ao abrir o arquivo utilize .shape para verificar o tamanho dos dados de treinamento e de teste\n",
        "\n",
        "OBS: os dados de treinamento devem ter as seguintes dimenções: x=(1500, 3), y=(1500,); os dados de teste devem ter as seguintes dimenções: x=(500, 3), y=(500,)"
      ],
      "metadata": {
        "id": "PNE18ycVkAZq"
      }
    },
    {
      "cell_type": "markdown",
      "source": [
        "b) Importe o pacote DecisionTreeClassifier do sklearn para treinar o seu algoritmo de árvore de decisão. Para poder refazer os testes e obter o mesmo resultado utilize o parâmetro random_state = 0."
      ],
      "metadata": {
        "id": "z1KvBd3Xr_KH"
      }
    },
    {
      "cell_type": "markdown",
      "source": [
        "c) Faça a previsão com os dados de teste. Visualize os dados e verifique se as previsões estão de acordo com os dados de teste (respostas reais)."
      ],
      "metadata": {
        "id": "dqKbl453kb2k"
      }
    },
    {
      "cell_type": "markdown",
      "source": [
        "d) Agora faça o cálculo da acurácia para calcular a taxa de acerto entre os valores reais (y teste) e as previsões"
      ],
      "metadata": {
        "id": "j57n74f8kdc0"
      }
    },
    {
      "cell_type": "code",
      "source": [
        "from sklearn.metrics import accuracy_score, classification_report"
      ],
      "metadata": {
        "id": "XPvtloWqknnS"
      },
      "execution_count": null,
      "outputs": []
    },
    {
      "cell_type": "markdown",
      "source": [
        "e) Faça a análise da Matriz de Confusão.\n",
        "\n",
        "i. Quantos clientes foram classificados corretamente que pagam a dívida?\n",
        "\n",
        "ii. Quantos clientes foram classificados incorretamente como não pagantes?\n",
        "\n",
        "iii. Quantos clientes foram classificados corretamente que não pagam?\n",
        "\n",
        "iv. Quantos clientes foram classificados incorretamente como pagantes?"
      ],
      "metadata": {
        "id": "mvtROrPqkkSP"
      }
    },
    {
      "cell_type": "code",
      "source": [
        "from yellowbrick.classifier import ConfusionMatrix\n",
        "cm = ConfusionMatrix(arvore_credit)\n",
        "cm.fit(X_credit_treinamento, y_credit_treinamento)\n",
        "cm.score(X_credit_teste, y_credit_teste)"
      ],
      "metadata": {
        "id": "UqG6Y8z9kyml"
      },
      "execution_count": null,
      "outputs": []
    },
    {
      "cell_type": "markdown",
      "source": [
        "f) Faça um print do parâmetro classification_report entre os dados de teste e as previsões. Explique qual é a relação entre precision e recall nos dados. Como você interpreta esses dados?"
      ],
      "metadata": {
        "id": "6OSMq5NPkx-y"
      }
    },
    {
      "cell_type": "markdown",
      "source": [
        "g) Gere uma visualização da sua árvore de decisão utilizando o pacote tree da biblioteca do sklearn.\n",
        "\n",
        "OBS 1: Os atributos previsores são = ['income', 'age', 'loan']\n",
        "\n",
        "OBS 2: Adicione cores, nomes para os atributos e para as classes. Você pode utilizar a função fig.savefig para salvar a árvore em uma imagem .png"
      ],
      "metadata": {
        "id": "yQbdg2cxk6GN"
      }
    },
    {
      "cell_type": "markdown",
      "source": [
        "# Algoritmo Random Forest\n",
        "\n",
        "Nesta seção iremos utilizar o algoritmo Random Forest para a mesma base de crédito (**Credit Risk Dataset**) - arquivo *credit.pkl*."
      ],
      "metadata": {
        "id": "UefGcD2WwKOF"
      }
    },
    {
      "cell_type": "markdown",
      "source": [
        "a) Importe o pacote RandomForestClassifier do sklearn para treinar o seu algoritmo de floresta randomica."
      ],
      "metadata": {
        "id": "fhA1pL1krfhK"
      }
    },
    {
      "cell_type": "code",
      "source": [
        "from sklearn.ensemble import RandomForestClassifier"
      ],
      "metadata": {
        "id": "rQVK0CY-rWif"
      },
      "execution_count": null,
      "outputs": []
    },
    {
      "cell_type": "markdown",
      "source": [
        "b) Para gerar a classificação você deve adicionar alguns parâmetros:\n",
        "*   n_estimators=10  --> número de árvores que você irá criar\n",
        "*   criterion='entropy'\n",
        "*   random_state = 0"
      ],
      "metadata": {
        "id": "8nlit3pPsN23"
      }
    },
    {
      "cell_type": "markdown",
      "source": [
        "c) Faça a previsão com os dados de teste. Visualize os dados e verifique se as previsões estão de acordo com os dados de teste (respostas reais)."
      ],
      "metadata": {
        "id": "h5xOBb_ztqCA"
      }
    },
    {
      "cell_type": "markdown",
      "source": [
        "d) Agora faça o cálculo da acurácia para calcular a taxa de acerto entre os valores reais (y teste) e as previsões. O resultado foi melhor do que a árvore de decisão simples?"
      ],
      "metadata": {
        "id": "DhqFUR_DuJpo"
      }
    },
    {
      "cell_type": "markdown",
      "source": [
        "e) Se o resultado foi inferior, como você poderia resolver isso? Quais foram os resultados obtidos?"
      ],
      "metadata": {
        "id": "y1pIXJ7puyE7"
      }
    },
    {
      "cell_type": "markdown",
      "source": [
        "f) Faça a análise da Matriz de Confusão."
      ],
      "metadata": {
        "id": "t_-8MAjev2aX"
      }
    },
    {
      "cell_type": "markdown",
      "source": [
        "g) Faça um print do parâmetro classification_report entre os dados de teste e as previsões. Explique qual é a relação entre precision e recall nos dados. Como você interpreta esses dados?"
      ],
      "metadata": {
        "id": "qYrjRCxcv37J"
      }
    }
  ]
}